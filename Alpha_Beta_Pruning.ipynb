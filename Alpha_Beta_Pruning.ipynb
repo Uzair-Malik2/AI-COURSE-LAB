{
  "nbformat": 4,
  "nbformat_minor": 0,
  "metadata": {
    "colab": {
      "provenance": []
    },
    "kernelspec": {
      "name": "python3",
      "display_name": "Python 3"
    },
    "language_info": {
      "name": "python"
    }
  },
  "cells": [
    {
      "cell_type": "code",
      "execution_count": 1,
      "metadata": {
        "colab": {
          "base_uri": "https://localhost:8080/"
        },
        "id": "nShtgo8DSj1A",
        "outputId": "04fbba40-e0f5-4f74-b22b-8b462e825dd1"
      },
      "outputs": [
        {
          "output_type": "stream",
          "name": "stdout",
          "text": [
            "The optimal value is : 5\n"
          ]
        }
      ],
      "source": [
        "MAX, MIN = 1000, -1000\n",
        "\n",
        "def minimax(depth, nodeIndex, maximizingPlayer,\n",
        "\t\t\tvalues, alpha, beta):\n",
        "\n",
        "\tif depth == 3:\n",
        "\t\treturn values[nodeIndex]\n",
        "\n",
        "\tif maximizingPlayer:\n",
        "\n",
        "\t\tbest = MIN\n",
        "\n",
        "\n",
        "\t\tfor i in range(0, 2):\n",
        "\n",
        "\t\t\tval = minimax(depth + 1, nodeIndex * 2 + i,\n",
        "\t\t\t\t\t\tFalse, values, alpha, beta)\n",
        "\t\t\tbest = max(best, val)\n",
        "\t\t\talpha = max(alpha, best)\n",
        "\n",
        "\n",
        "\t\t\tif beta <= alpha:\n",
        "\t\t\t\tbreak\n",
        "\n",
        "\t\treturn best\n",
        "\n",
        "\telse:\n",
        "\t\tbest = MAX\n",
        "\n",
        "\n",
        "\t\tfor i in range(0, 2):\n",
        "\n",
        "\t\t\tval = minimax(depth + 1, nodeIndex * 2 + i,\n",
        "\t\t\t\t\t\t\tTrue, values, alpha, beta)\n",
        "\t\t\tbest = min(best, val)\n",
        "\t\t\tbeta = min(beta, best)\n",
        "\n",
        "\n",
        "\t\t\tif beta <= alpha:\n",
        "\t\t\t\tbreak\n",
        "\n",
        "\t\treturn best\n",
        "\n",
        "\n",
        "if __name__ == \"__main__\":\n",
        "\n",
        "\tvalues = [3, 5, 6, 9, 1, 2, 0, -1]\n",
        "\tprint(\"The optimal value is :\", minimax(0, 0, True, values, MIN, MAX))"
      ]
    }
  ]
}