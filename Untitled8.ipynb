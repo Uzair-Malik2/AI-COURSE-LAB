{
  "nbformat": 4,
  "nbformat_minor": 0,
  "metadata": {
    "colab": {
      "provenance": [],
      "toc_visible": true
    },
    "kernelspec": {
      "name": "python3",
      "display_name": "Python 3"
    },
    "language_info": {
      "name": "python"
    }
  },
  "cells": [
    {
      "cell_type": "code",
      "source": [
        "from collections import deque"
      ],
      "metadata": {
        "id": "OA_hxZWYBvcc"
      },
      "execution_count": null,
      "outputs": []
    },
    {
      "cell_type": "code",
      "source": [
        "pakistan_cities = {\n",
        "    'Karachi': ['Hyderabad'],\n",
        "    'Hyderabad': ['Karachi', 'Sukkur'],\n",
        "    'Sukkur': ['Hyderabad', 'Multan', 'Quetta'],\n",
        "    'Multan': ['Sukkur', 'Lahore'],\n",
        "    'Quetta': ['Sukkur'],\n",
        "    'Lahore': ['Multan', 'Islamabad'],\n",
        "    'Islamabad': ['Lahore', 'Peshawar'],\n",
        "    'Peshawar': ['Islamabad']\n",
        "}"
      ],
      "metadata": {
        "id": "JX2rT1SyB0KL"
      },
      "execution_count": null,
      "outputs": []
    },
    {
      "cell_type": "code",
      "source": [
        "def BFS(graph, start, goal):\n",
        "\n",
        "    visited=list();\n",
        "\n",
        "    queue = deque();\n",
        "    queue.append(\"Karachi\");\n",
        "\n",
        "    while queue:\n",
        "\n",
        "      node = queue.popleft();\n",
        "      visited.append(node);\n",
        "\n",
        "      for childNode in graph[node]:\n",
        "        if(childNode not in visited and childNode not in queue):\n",
        "          queue.append(childNode);\n",
        "\n",
        "      if(node==goal):\n",
        "        print(goal,\" Founded Successfully\");\n",
        "        return visited;\n",
        "\n",
        "    print(goal,\" Not Found\");\n",
        "\n",
        "    return visited;"
      ],
      "metadata": {
        "id": "UoHqL2o8NDMy"
      },
      "execution_count": 7,
      "outputs": []
    },
    {
      "cell_type": "code",
      "source": [
        "visitedNodes = BFS(pakistan_cities,\"Karachi\",\"Peshawar\");\n",
        "print(visitedNodes);"
      ],
      "metadata": {
        "colab": {
          "base_uri": "https://localhost:8080/"
        },
        "id": "l1wdHPD7NIMy",
        "outputId": "7b4e636a-1eb3-4b1f-9acc-2ce8a31a90a6"
      },
      "execution_count": 8,
      "outputs": [
        {
          "output_type": "stream",
          "name": "stdout",
          "text": [
            "Peshawar  Founded Successfully\n",
            "['Karachi', 'Hyderabad', 'Sukkur', 'Multan', 'Quetta', 'Lahore', 'Islamabad', 'Peshawar']\n"
          ]
        }
      ]
    }
  ]
}