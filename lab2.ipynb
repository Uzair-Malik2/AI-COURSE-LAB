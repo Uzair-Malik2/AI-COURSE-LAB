{
  "nbformat": 4,
  "nbformat_minor": 0,
  "metadata": {
    "colab": {
      "provenance": [],
      "toc_visible": true
    },
    "kernelspec": {
      "name": "python3",
      "display_name": "Python 3"
    },
    "language_info": {
      "name": "python"
    }
  },
  "cells": [
    {
      "cell_type": "code",
      "execution_count": null,
      "metadata": {
        "id": "UaSWL2WW5zKt"
      },
      "outputs": [],
      "source": []
    },
    {
      "cell_type": "markdown",
      "source": [],
      "metadata": {
        "id": "u3Rrvj5i56-0"
      }
    },
    {
      "cell_type": "markdown",
      "source": [
        "# 1.**List**"
      ],
      "metadata": {
        "id": "TBojV2zM59Pr"
      }
    },
    {
      "cell_type": "markdown",
      "source": [
        "# 2. **Tuples**"
      ],
      "metadata": {
        "id": "tWk2W1tM6Mdz"
      }
    },
    {
      "cell_type": "markdown",
      "source": [
        "# 3. **Sets**"
      ],
      "metadata": {
        "id": "CSsjnnWV6QOr"
      }
    },
    {
      "cell_type": "markdown",
      "source": [
        "# 4. **Dictionaries**"
      ],
      "metadata": {
        "id": "TCYtaJnx6TDr"
      }
    },
    {
      "cell_type": "markdown",
      "source": [
        "# 5. **Numpy**"
      ],
      "metadata": {
        "id": "uUF6GsFb6WFb"
      }
    },
    {
      "cell_type": "markdown",
      "source": [
        "# 6. **MatPlotLib**"
      ],
      "metadata": {
        "id": "mmx1xGN96ZeC"
      }
    },
    {
      "cell_type": "code",
      "source": [
        "#list of 10 integrels\n",
        "\n",
        "\n",
        "a=[7,8,3,4,5,6,9,10,1,2]\n",
        "\n",
        "#sum,max,min\n",
        "print('list',a)\n",
        "print('sum:',sum(a))\n",
        "print('max:',max(a))\n",
        "print('min:',min(a))\n",
        "\n",
        "#add and remove\n",
        "\n",
        "a.append(11)\n",
        "a.remove(9)\n",
        "\n",
        "print('a after adding and removig element',a)\n",
        "\n",
        "#sort the list in ascending and descending order\n",
        "\n",
        "print('ascending oreder:',sorted(a))\n",
        "print('decending order:',sorted(a,reverse=True))"
      ],
      "metadata": {
        "colab": {
          "base_uri": "https://localhost:8080/"
        },
        "id": "whWKWipLAKtU",
        "outputId": "869d0249-d507-4def-ae4c-9ed6a2b6733e"
      },
      "execution_count": 7,
      "outputs": [
        {
          "output_type": "stream",
          "name": "stdout",
          "text": [
            "list [7, 8, 3, 4, 5, 6, 9, 10, 1, 2]\n",
            "sum: 55\n",
            "max: 10\n",
            "min: 1\n",
            "a after adding and removig element [7, 8, 3, 4, 5, 6, 10, 1, 2, 11]\n",
            "ascending oreder: [1, 2, 3, 4, 5, 6, 7, 8, 10, 11]\n",
            "decending order: [11, 10, 8, 7, 6, 5, 4, 3, 2, 1]\n"
          ]
        }
      ]
    },
    {
      "cell_type": "code",
      "source": [
        "#create a tuple with 5 strings\n",
        "\n",
        "fruits=('apple','mango','banana','pineapple','watermelon')\n",
        "print(fruits)\n",
        "print('first element',fruits[1])\n",
        "print('last element',fruits[3])\n",
        "\n",
        "#try modify and grt error\n",
        "\n",
        "#fruits.append('grapes')\n",
        "\n",
        "#convert tuple into list\n",
        "\n",
        "fruits_list=list(fruits)\n",
        "fruits_list[2]='orange'\n",
        "print('modified list',fruits_list)"
      ],
      "metadata": {
        "colab": {
          "base_uri": "https://localhost:8080/"
        },
        "id": "nGLD3jTBEq27",
        "outputId": "fb8e8374-cd25-4355-d238-385da83ad019"
      },
      "execution_count": 12,
      "outputs": [
        {
          "output_type": "stream",
          "name": "stdout",
          "text": [
            "('apple', 'mango', 'banana', 'pineapple', 'watermelon')\n",
            "first element mango\n",
            "last element pineapple\n",
            "modified list ['apple', 'mango', 'orange', 'pineapple', 'watermelon']\n"
          ]
        }
      ]
    },
    {
      "cell_type": "code",
      "source": [
        "#create two sets with common and unique elements\n",
        "\n",
        "a={1,2,3,4,5}\n",
        "b={4,5,6,7,8}\n",
        "\n",
        "#perform union,intersection and differnence operations\n",
        "\n",
        "print('union', a | b)\n",
        "print('intersection',a & b)\n",
        "print('difference',a-b)"
      ],
      "metadata": {
        "colab": {
          "base_uri": "https://localhost:8080/"
        },
        "id": "J6HaqChvH2M8",
        "outputId": "757b7887-e6b1-400f-958b-6c79a6ef788a"
      },
      "execution_count": 13,
      "outputs": [
        {
          "output_type": "stream",
          "name": "stdout",
          "text": [
            "union {1, 2, 3, 4, 5, 6, 7, 8}\n",
            "intersection {4, 5}\n",
            "difference {1, 2, 3}\n"
          ]
        }
      ]
    },
    {
      "cell_type": "code",
      "source": [
        "#create dictionary\n",
        "\n",
        "students={'ali':1,'malik':2,'umer':3,'qamar':4}\n",
        "\n",
        "#print keys and values\n",
        "\n",
        "print('keys',students.keys())\n",
        "print('values', students.values())\n",
        "\n",
        "#values updated\n",
        "\n",
        "students['ali']=7\n",
        "print('updated dictionary:',students)"
      ],
      "metadata": {
        "colab": {
          "base_uri": "https://localhost:8080/"
        },
        "id": "Qm1j9W6jJfGj",
        "outputId": "2f52015c-0184-40cd-bfbf-3a3dc7095f1e"
      },
      "execution_count": 14,
      "outputs": [
        {
          "output_type": "stream",
          "name": "stdout",
          "text": [
            "keys dict_keys(['ali', 'malik', 'umer', 'qamar'])\n",
            "values dict_values([1, 2, 3, 4])\n",
            "updated dictionary: {'ali': 7, 'malik': 2, 'umer': 3, 'qamar': 4}\n"
          ]
        }
      ]
    }
  ]
}